{
 "cells": [
  {
   "cell_type": "code",
   "execution_count": 1,
   "id": "1490ffe4-2bdf-4714-ac10-afad40b3bd69",
   "metadata": {},
   "outputs": [],
   "source": [
    "import os\n",
    "import shutil"
   ]
  },
  {
   "cell_type": "code",
   "execution_count": 11,
   "id": "f54967e5-ea45-49f4-a809-a229a018e479",
   "metadata": {},
   "outputs": [],
   "source": [
    "path = r'C:\\Users\\robert.manea\\Downloads\\Automatic\\\\'"
   ]
  },
  {
   "cell_type": "code",
   "execution_count": 5,
   "id": "fc43cc0f-4206-40c2-be5d-8b78c28d0d4b",
   "metadata": {},
   "outputs": [
    {
     "data": {
      "text/plain": [
       "['CSVFile.csv',\n",
       " 'FakeFile.csv',\n",
       " 'FakeFile.txt',\n",
       " 'Max.png',\n",
       " 'NewFile.tsv',\n",
       " 'NewFile.txt',\n",
       " 'Rosie.png',\n",
       " 'ziua alegerilor cine unde ce.xlsx']"
      ]
     },
     "execution_count": 5,
     "metadata": {},
     "output_type": "execute_result"
    }
   ],
   "source": [
    "os.listdir(path)"
   ]
  },
  {
   "cell_type": "code",
   "execution_count": 27,
   "id": "133461b9-f1e2-444e-9f30-7b61d404264b",
   "metadata": {},
   "outputs": [],
   "source": [
    "folder_names = ['CSV Files', 'Text Files', 'Image Files', 'Excel Files']\n",
    "\n",
    "for folder in folder_names:\n",
    "    if not os.path.exists(path + folder):\n",
    "        os.makedirs(path + folder)"
   ]
  },
  {
   "cell_type": "code",
   "execution_count": 29,
   "id": "c31f5904-7222-4497-9419-5c390f799d72",
   "metadata": {},
   "outputs": [],
   "source": [
    "file_names = os.listdir(path)\n",
    "\n",
    "for file in file_names:\n",
    "    if '.csv' in file and not os.path.exists(path + 'CSV Files\\\\' + file):\n",
    "        shutil.move(path + file, path + 'CSV Files\\\\' + file)\n",
    "    elif '.png' in file and not os.path.exists(path + 'Image Files\\\\' + file):\n",
    "        shutil.move(path + file, path + 'Image Files\\\\' + file)\n",
    "    elif '.txt' in file and not os.path.exists(path + 'Text Files\\\\' + file):\n",
    "        shutil.move(path + file, path + 'Text Files\\\\' + file)\n",
    "    elif '.xlsx' in file and not os.path.exists(path + 'Excel Files\\\\' + file):\n",
    "        shutil.move(path + file, path + 'Excel Files\\\\' + file)\n",
    "        "
   ]
  },
  {
   "cell_type": "code",
   "execution_count": null,
   "id": "9cdc9197-413e-4118-b45f-c30e17b05d43",
   "metadata": {},
   "outputs": [],
   "source": []
  }
 ],
 "metadata": {
  "kernelspec": {
   "display_name": "Python 3 (ipykernel)",
   "language": "python",
   "name": "python3"
  },
  "language_info": {
   "codemirror_mode": {
    "name": "ipython",
    "version": 3
   },
   "file_extension": ".py",
   "mimetype": "text/x-python",
   "name": "python",
   "nbconvert_exporter": "python",
   "pygments_lexer": "ipython3",
   "version": "3.12.4"
  }
 },
 "nbformat": 4,
 "nbformat_minor": 5
}
