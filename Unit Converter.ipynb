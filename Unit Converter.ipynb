{
 "cells": [
  {
   "cell_type": "code",
   "execution_count": 1,
   "id": "9604d7be-ba57-4867-8c82-4a3cfc5be9bd",
   "metadata": {},
   "outputs": [
    {
     "name": "stdin",
     "output_type": "stream",
     "text": [
      "Enter Starting Unit of Measurement (inches, feet, yards): inches\n",
      "Enter Unit of Measurement to Convert to (inches, feet, yards): feet\n",
      "Enter Starting Measurement in Inches:  24\n",
      "Enter Starting Measurement in Feet:  3\n",
      "Enter Starting Measurement in Yards:  1\n"
     ]
    }
   ],
   "source": [
    "convert_from = input(\"Enter Starting Unit of Measurement (inches, feet, yards):\")\n",
    "\n",
    "convert_to = input(\"Enter Unit of Measurement to Convert to (inches, feet, yards):\")\n",
    "\n",
    "number_of_inches = input(\"Enter Starting Measurement in inches: \")\n",
    "\n",
    "number_of_feet = input(\"Enter Starting Measurement in feet: \")\n",
    "\n",
    "number_of_yards = input(\"Enter Starting Measurement in yards: \")"
   ]
  },
  {
   "cell_type": "code",
   "execution_count": 57,
   "id": "2edf8764-fd5f-4868-9921-6a21ce7e1126",
   "metadata": {},
   "outputs": [
    {
     "name": "stdin",
     "output_type": "stream",
     "text": [
      "Enter Starting Unit of Measurement (inches, feet, yards): yards\n",
      "Enter Unit of Measurement to Convert to (inches, feet, yards): feet\n",
      "Enter Starting Measurement in yards:  67\n"
     ]
    },
    {
     "name": "stdout",
     "output_type": "stream",
     "text": [
      "Result 67 yards = 201 feet\n"
     ]
    }
   ],
   "source": [
    "convert_from = input(\"Enter Starting Unit of Measurement (inches, feet, yards):\")\n",
    "\n",
    "convert_to = input(\"Enter Unit of Measurement to Convert to (inches, feet, yards):\")\n",
    "\n",
    "if convert_from.lower() in ['inches', 'inch']:\n",
    "    number_of_inches = int (input(\"Enter Starting Unit of Measurement in inches:\"))\n",
    "    if convert_to.lower() in ['feet', 'foot', 'ft']:\n",
    "       print (\"Result \" + str(number_of_inches) + \" inches = \" + str (round (number_of_inches/ 12)) + ' feet')\n",
    "    elif convert_to.lower() in ['yards', 'yard', 'yds']:\n",
    "       print (\"Result \" + str(number_of_inches) + \" inches = \" + str (round (number_of_inches/ 36)) + ' yards')\n",
    "    else:\n",
    "        print ('You enter a wrong value')\n",
    "\n",
    "elif convert_from.lower() in ['feet', 'foot', 'ft']:\n",
    "    number_of_feet = int (input(\"Enter Starting Measurement in feet: \"))\n",
    "    if convert_to.lower() in ['inches', 'inch']:\n",
    "       print (\"Result \" + str(number_of_feet) + ' feet = ' + str (round (number_of_feet * 12)) + ' inches')\n",
    "    elif convert_to.lower() in ['yards', 'yard', 'yds']:\n",
    "       print (\"Result \" + str(number_of_feet) + ' feet = ' + str (round (number_of_feet / 3)) + ' yards')\n",
    "    else:\n",
    "        print ('You enter a wrong value')\n",
    "\n",
    "elif convert_from.lower() in ['yards', 'yard', 'yds']:\n",
    "    number_of_yards = int (input(\"Enter Starting Measurement in yards: \"))\n",
    "    if convert_to.lower() in ['inches', 'inch']:\n",
    "       print (\"Result \" + str(number_of_yards) + ' yards = ' + str (round (number_of_yards * 36)) + ' inches')\n",
    "    elif convert_to.lower() in ['feet', 'foot', 'ft']:\n",
    "       print (\"Result \" + str(number_of_yards) + ' yards = ' + str (round (number_of_yards * 3)) + ' feet')\n",
    "    else:\n",
    "        print ('You enter a wrong value')"
   ]
  },
  {
   "cell_type": "code",
   "execution_count": null,
   "id": "7c29d432-a3f1-4fce-a610-8b1f52e44ea0",
   "metadata": {},
   "outputs": [],
   "source": []
  },
  {
   "cell_type": "code",
   "execution_count": null,
   "id": "c3ca5754-f8cd-4562-a942-c251cba3a66e",
   "metadata": {},
   "outputs": [],
   "source": []
  }
 ],
 "metadata": {
  "kernelspec": {
   "display_name": "Python 3 (ipykernel)",
   "language": "python",
   "name": "python3"
  },
  "language_info": {
   "codemirror_mode": {
    "name": "ipython",
    "version": 3
   },
   "file_extension": ".py",
   "mimetype": "text/x-python",
   "name": "python",
   "nbconvert_exporter": "python",
   "pygments_lexer": "ipython3",
   "version": "3.12.4"
  }
 },
 "nbformat": 4,
 "nbformat_minor": 5
}
